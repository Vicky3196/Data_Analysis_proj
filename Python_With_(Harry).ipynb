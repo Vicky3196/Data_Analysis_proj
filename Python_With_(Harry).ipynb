{
  "nbformat": 4,
  "nbformat_minor": 0,
  "metadata": {
    "colab": {
      "private_outputs": true,
      "provenance": [],
      "authorship_tag": "ABX9TyNU5bRegKRTieP8CUr0GCIH",
      "include_colab_link": true
    },
    "kernelspec": {
      "name": "python3",
      "display_name": "Python 3"
    },
    "language_info": {
      "name": "python"
    }
  },
  "cells": [
    {
      "cell_type": "markdown",
      "metadata": {
        "id": "view-in-github",
        "colab_type": "text"
      },
      "source": [
        "<a href=\"https://colab.research.google.com/github/Vicky3196/Data_Analysis_proj/blob/main/Python_With_(Harry).ipynb\" target=\"_parent\"><img src=\"https://colab.research.google.com/assets/colab-badge.svg\" alt=\"Open In Colab\"/></a>"
      ]
    },
    {
      "cell_type": "code",
      "source": [
        "# Chapter:- 3 String"
      ],
      "metadata": {
        "id": "FOOklQnsilx-"
      },
      "execution_count": null,
      "outputs": []
    },
    {
      "cell_type": "code",
      "source": [
        "# slicing\n",
        "name = \"harry\"\n",
        "word = \"amazing\"\n",
        "print(name[-5:])\n",
        "print(name[3:5])\n",
        "# it is print reverse string into right\n",
        "print(name[:-4:-1])\n",
        "# gapping\n",
        "print(word[0:3:2])\n",
        "print(word.endswith(\"g\"))\n",
        "print(name.find(\"r\"))"
      ],
      "metadata": {
        "id": "KsUkxitLio20"
      },
      "execution_count": null,
      "outputs": []
    },
    {
      "cell_type": "code",
      "source": [],
      "metadata": {
        "id": "4lZBPjJUyI2Y"
      },
      "execution_count": null,
      "outputs": []
    },
    {
      "cell_type": "code",
      "source": [
        "name.index(\"y\")\n",
        "name.upper()\n",
        "name.count(\"r\")\n",
        "name.replace('c','h')"
      ],
      "metadata": {
        "id": "RZDcnBurORhG"
      },
      "execution_count": null,
      "outputs": []
    },
    {
      "cell_type": "code",
      "source": [
        "name = \" Ram is good boy\"\n",
        "word = name.split()\n",
        "word = word[::-1]\n",
        "words = (word[0]+\" \"+word[1]+\" \"+word[2]+\" \"+word[3])\n",
        "words"
      ],
      "metadata": {
        "id": "2ZFMFIpdtIn0"
      },
      "execution_count": null,
      "outputs": []
    },
    {
      "cell_type": "code",
      "source": [
        "words"
      ],
      "metadata": {
        "id": "Ca8ZDdge9je-"
      },
      "execution_count": null,
      "outputs": []
    },
    {
      "cell_type": "code",
      "source": [
        "words= words[::-1]"
      ],
      "metadata": {
        "id": "eIL7pnIO9nH0"
      },
      "execution_count": null,
      "outputs": []
    },
    {
      "cell_type": "code",
      "source": [
        "name = \"Ram is good boy\"\n",
        "words = name.split()\n",
        "name1 = words[3] + \" is good \" + words[0]\n",
        "print(name1)"
      ],
      "metadata": {
        "id": "5CExK2XF7YPf"
      },
      "execution_count": null,
      "outputs": []
    },
    {
      "cell_type": "code",
      "source": [
        "words[0]+\" \"+words[1]+\" \"+words[2]+\" \"+words[3]"
      ],
      "metadata": {
        "id": "6G0vjcpi9nLM"
      },
      "execution_count": null,
      "outputs": []
    },
    {
      "cell_type": "code",
      "source": [
        "n1 = \"RAMAYAN\""
      ],
      "metadata": {
        "id": "uxw0gbpeipGS"
      },
      "execution_count": null,
      "outputs": []
    },
    {
      "cell_type": "code",
      "source": [
        "n2 = n1.replace('R','N')\n",
        "n3 = n1.count('A')\n",
        "n4 = n1.lower()\n",
        "n5 = len(name)\n",
        "print(n2)\n",
        "print(n3)\n",
        "print(n4)\n",
        "print(n5)"
      ],
      "metadata": {
        "id": "72UdbfzQn5Ov"
      },
      "execution_count": null,
      "outputs": []
    },
    {
      "cell_type": "code",
      "source": [
        "# practice set"
      ],
      "metadata": {
        "id": "2OWVR7TdipTl"
      },
      "execution_count": null,
      "outputs": []
    },
    {
      "cell_type": "code",
      "source": [
        "name = input(\"enter your name \\n\")\n",
        "print(\"Good Afternoon\"+ name)"
      ],
      "metadata": {
        "id": "xXviCk_qipcP"
      },
      "execution_count": null,
      "outputs": []
    },
    {
      "cell_type": "code",
      "source": [
        "# how to replace any string and print\n",
        "\n",
        "letter = ''' Dear <|NAME|>,\n",
        "you are selected !\n",
        "Date: <|DATE|>\n",
        "'''\n",
        "name = input(\"Enter your name \\n\")\n",
        "Date = input(\"Enter Date \\n\")\n",
        "letter = letter.replace('<|NAME|>',name)\n",
        "letter = letter.replace('<|DATE|>',Date)\n",
        "print(letter)"
      ],
      "metadata": {
        "id": "cr52uVpPipjl"
      },
      "execution_count": null,
      "outputs": []
    },
    {
      "cell_type": "code",
      "source": [
        "# how to find double space in string\n",
        "\n",
        "st = \"this is a string with double  spaces\"\n",
        "doubleSpaces = st.find(\"  \")\n",
        "print(doubleSpaces)"
      ],
      "metadata": {
        "id": "NDAEBv45uLgW"
      },
      "execution_count": null,
      "outputs": []
    },
    {
      "cell_type": "code",
      "source": [
        "# how to find double space in string wit single string\n",
        "\n",
        "st = \"this is a string with double  spaces\"\n",
        "doubleSpaces = st.replace(\"   \",\" \")\n",
        "print(st)"
      ],
      "metadata": {
        "id": "IdRtN4Q2uLtS"
      },
      "execution_count": null,
      "outputs": []
    },
    {
      "cell_type": "code",
      "source": [
        "letter = \"Dear harry, This python course is nice! thanks\"\n",
        "\n",
        "formated =  \"Dear harry,\\n\\tThis python course is nice!\\nthanks\"\n",
        "print(formated)"
      ],
      "metadata": {
        "id": "PUsQiB-WuLvp"
      },
      "execution_count": null,
      "outputs": []
    },
    {
      "cell_type": "code",
      "source": [],
      "metadata": {
        "id": "t-C3imiuuLzx"
      },
      "execution_count": null,
      "outputs": []
    },
    {
      "cell_type": "code",
      "source": [],
      "metadata": {
        "id": "8BA387cEuMBC"
      },
      "execution_count": null,
      "outputs": []
    },
    {
      "cell_type": "code",
      "execution_count": null,
      "metadata": {
        "id": "f_tiL722u5K6"
      },
      "outputs": [],
      "source": [
        "# chapter 4(List&Tuples)\n",
        "# LIST"
      ]
    },
    {
      "cell_type": "code",
      "source": [],
      "metadata": {
        "id": "k7Zgjy2Bin9I"
      },
      "execution_count": null,
      "outputs": []
    },
    {
      "cell_type": "code",
      "source": [
        "a =[1,2,3,4,5,6]"
      ],
      "metadata": {
        "id": "eSpwfXAXi0Of"
      },
      "execution_count": null,
      "outputs": []
    },
    {
      "cell_type": "code",
      "source": [
        "print(a)"
      ],
      "metadata": {
        "id": "upmPUJRFi0bP"
      },
      "execution_count": null,
      "outputs": []
    },
    {
      "cell_type": "code",
      "source": [
        "# Acces index\n",
        "print(a[3])\n",
        "print(a[5])"
      ],
      "metadata": {
        "id": "Oy1WLJ7_i0dF"
      },
      "execution_count": null,
      "outputs": []
    },
    {
      "cell_type": "code",
      "source": [
        "# change the value of index\n",
        "a[0]=98\n",
        "print(a)"
      ],
      "metadata": {
        "id": "js5TmaNGi0gE"
      },
      "execution_count": null,
      "outputs": []
    },
    {
      "cell_type": "code",
      "source": [],
      "metadata": {
        "id": "VG6mR6DWWF4T"
      },
      "execution_count": null,
      "outputs": []
    },
    {
      "cell_type": "code",
      "source": [
        "# we can create a list with items of different type\n",
        "c=[2,3,4,'harry',False,3.0]\n",
        "print(c)"
      ],
      "metadata": {
        "id": "5LjKZx2-i0k8"
      },
      "execution_count": null,
      "outputs": []
    },
    {
      "cell_type": "code",
      "source": [
        "# List slicing\n",
        "\n",
        "friends = ['harry','tom','rohan','sam','divya',45]\n",
        "print(friends[0:4])\n",
        "print(friends[:-4:-1])"
      ],
      "metadata": {
        "id": "jeLQeTa6i0nV"
      },
      "execution_count": null,
      "outputs": []
    },
    {
      "cell_type": "code",
      "source": [
        "# List method\n",
        "l1 = [1,8,7,2,21,15]\n",
        "print(l1)\n",
        "l1.sort()\n",
        "print(l1)\n",
        "l1.reverse()\n",
        "print(l1)\n",
        "l1.append(2023)\n",
        "print(l1)\n",
        "l1.insert(0,8)\n",
        "print(l1)"
      ],
      "metadata": {
        "id": "mw5FIU4ji0pd"
      },
      "execution_count": null,
      "outputs": []
    },
    {
      "cell_type": "code",
      "source": [
        "l1 .sort()\n",
        "l1"
      ],
      "metadata": {
        "id": "IZe3kEHBJefb"
      },
      "execution_count": null,
      "outputs": []
    },
    {
      "cell_type": "code",
      "source": [
        "# pop and remove\n",
        "l1.pop(0)\n",
        "l1.remove(7)"
      ],
      "metadata": {
        "id": "unTtNzPzi0q9"
      },
      "execution_count": null,
      "outputs": []
    },
    {
      "cell_type": "code",
      "source": [
        "print(l1)"
      ],
      "metadata": {
        "id": "qwer_JAp5PZL"
      },
      "execution_count": null,
      "outputs": []
    },
    {
      "cell_type": "code",
      "source": [
        "# TUPLES:\n",
        "# creating tuples but not update tuples\n",
        "t =(1,1,3,4,5,1,1)\n",
        "print(t[3])\n",
        "print(t.count(1))\n",
        "# indexing is find out position of values\n",
        "print(t.index(5))"
      ],
      "metadata": {
        "id": "WJ92bLPDi0sY"
      },
      "execution_count": null,
      "outputs": []
    },
    {
      "cell_type": "code",
      "source": [],
      "metadata": {
        "id": "8bHKfhD57R-8"
      },
      "execution_count": null,
      "outputs": []
    },
    {
      "cell_type": "code",
      "source": [
        "# Practice Set Of List & Tuple"
      ],
      "metadata": {
        "id": "u5TruHEoi0uC"
      },
      "execution_count": null,
      "outputs": []
    },
    {
      "cell_type": "code",
      "source": [
        "f1 = input(\"enter fruit number \")\n",
        "f2 = input(\"enter fruit number \")\n",
        "f3 = input(\"enter fruit number \")\n",
        "f4 = input(\"enter fruit number \")\n",
        "f5 = input(\"enter fruit number \")\n",
        "f6 = input(\"enter fruit number \")\n",
        "f7 = input(\"enter fruit number \")\n",
        "myfruits = [f1,f2,f3,f4,f5,f6,f7]\n",
        "print(myfruits)"
      ],
      "metadata": {
        "id": "6_1nqfWOi0vz"
      },
      "execution_count": null,
      "outputs": []
    },
    {
      "cell_type": "code",
      "source": [
        "m1 = input(\"enter students marks: \")\n",
        "m2 = input(\"enter students marks: \")\n",
        "m3 = input(\"enter students marks: \")\n",
        "mylist1 =[m1,m2,m3]\n",
        "mylist1.sort()\n",
        "print(mylist1)"
      ],
      "metadata": {
        "id": "flgwaxk4yFjz"
      },
      "execution_count": null,
      "outputs": []
    },
    {
      "cell_type": "code",
      "source": [
        "a = [1,2,3,4]\n",
        "print(a[0]+a[1]+a[2]+a[3])"
      ],
      "metadata": {
        "id": "1fOPLzBMi0y2"
      },
      "execution_count": null,
      "outputs": []
    },
    {
      "cell_type": "code",
      "source": [
        "a =(7,0,8,0,0,9)\n",
        "print(a.count(0))"
      ],
      "metadata": {
        "id": "wHRQ423Di00y"
      },
      "execution_count": null,
      "outputs": []
    },
    {
      "cell_type": "code",
      "source": [
        "# Chapter:5  Dictionary & Sets in python;"
      ],
      "metadata": {
        "id": "3IR6AwSM-Psl"
      },
      "execution_count": null,
      "outputs": []
    },
    {
      "cell_type": "code",
      "source": [
        "mydict = {\"fast\":\"In a quick manner\",\"harry\":\"A coder\",\"marks\":(1,2,3,4),\"anotherdict\":{'harry','player'}}\n",
        "\n",
        "print(mydict[\"harry\"])\n",
        "print(mydict[\"marks\"])\n",
        "print(mydict[\"anotherdict\"])"
      ],
      "metadata": {
        "id": "LqIZ6PBI-UfD"
      },
      "execution_count": null,
      "outputs": []
    },
    {
      "cell_type": "code",
      "source": [],
      "metadata": {
        "id": "oNSP6MCV-Ut9"
      },
      "execution_count": null,
      "outputs": []
    },
    {
      "cell_type": "code",
      "source": [
        "# Dictionary Method\n",
        "print(mydict.values())\n",
        "print(mydict.keys())"
      ],
      "metadata": {
        "id": "uucR9GOfBVrS"
      },
      "execution_count": null,
      "outputs": []
    },
    {
      "cell_type": "code",
      "source": [
        "print(mydict.items())"
      ],
      "metadata": {
        "id": "d96jpNVd-U6Z"
      },
      "execution_count": null,
      "outputs": []
    },
    {
      "cell_type": "code",
      "source": [
        "# update dictionary\n",
        "\n",
        "print(mydict)\n",
        "dict1 = {\"lovish\":\"friend\",\"rollno\":{21,23}}\n",
        "mydict.update(dict1)\n",
        "print(mydict)"
      ],
      "metadata": {
        "id": "htWwFF9H-VAj"
      },
      "execution_count": null,
      "outputs": []
    },
    {
      "cell_type": "code",
      "source": [
        "# update value\n",
        "mydict['marks'] = [23,45,67,34]\n",
        "print(mydict)"
      ],
      "metadata": {
        "id": "qe-_8tYXCnv4"
      },
      "execution_count": null,
      "outputs": []
    },
    {
      "cell_type": "code",
      "source": [
        "print(mydict.get('harry2')) # In a get method do not give error\n",
        "#print(mydict[\"harry2\"]) # it return error"
      ],
      "metadata": {
        "id": "2dmGjeXtCn1k"
      },
      "execution_count": null,
      "outputs": []
    },
    {
      "cell_type": "code",
      "source": [],
      "metadata": {
        "id": "TKpgEs4gCn6-"
      },
      "execution_count": null,
      "outputs": []
    },
    {
      "cell_type": "code",
      "source": [
        " # Sets in python"
      ],
      "metadata": {
        "id": "QRA343rkCn_6"
      },
      "execution_count": null,
      "outputs": []
    },
    {
      "cell_type": "code",
      "source": [
        "# SET NOT CONTAIN DUPLICATE VALUE:\n",
        "\n",
        "a = {1,2,3,4,1}\n",
        "print(type(a))\n",
        "print(a)"
      ],
      "metadata": {
        "id": "erPOJSOAi02f"
      },
      "execution_count": null,
      "outputs": []
    },
    {
      "cell_type": "code",
      "source": [],
      "metadata": {
        "id": "Vij9xVUtrfaU"
      },
      "execution_count": null,
      "outputs": []
    },
    {
      "cell_type": "code",
      "source": [
        "b = set()\n",
        "print(type(b))"
      ],
      "metadata": {
        "id": "naz3Nm7zGmR2"
      },
      "execution_count": null,
      "outputs": []
    },
    {
      "cell_type": "code",
      "source": [
        "b.add(36)\n",
        "b.add((1,23))\n",
        "print(b)"
      ],
      "metadata": {
        "id": "UsSUIpovi04M"
      },
      "execution_count": null,
      "outputs": []
    },
    {
      "cell_type": "code",
      "source": [
        "a.add((1,2))\n",
        "print(a)\n",
        "print(len(b))\n",
        "print(len(a))"
      ],
      "metadata": {
        "id": "zvuWq0Cbi06d"
      },
      "execution_count": null,
      "outputs": []
    },
    {
      "cell_type": "code",
      "source": [
        "# it remove value or string\n",
        "#b.remove(23)\n",
        "b.pop()"
      ],
      "metadata": {
        "id": "p9RZGgxLKP01"
      },
      "execution_count": null,
      "outputs": []
    },
    {
      "cell_type": "code",
      "source": [
        "b"
      ],
      "metadata": {
        "id": "9B3afHJnty76"
      },
      "execution_count": null,
      "outputs": []
    },
    {
      "cell_type": "code",
      "source": [
        "\n",
        "\n",
        "s1 = {1,8,2,3,11}"
      ],
      "metadata": {
        "id": "Jh_BAFJWi09E"
      },
      "execution_count": null,
      "outputs": []
    },
    {
      "cell_type": "code",
      "source": [
        "s2 = {8}"
      ],
      "metadata": {
        "id": "L2jF3ubMi1A6"
      },
      "execution_count": null,
      "outputs": []
    },
    {
      "cell_type": "code",
      "source": [
        "# Practice Set Dictionary & Set:\n",
        "\n",
        "mydict = {\"pankha\":\"fan\",\"daba\":\"box\",\"vastu\":\"item\"}\n",
        "print(\"options are\",mydict.keys())\n",
        "a = input(\"enetr the hindi word:-\")\n",
        "print(\"the meaning of your word is :- \",mydict.get(a))"
      ],
      "metadata": {
        "id": "lVQxloK2i1Do"
      },
      "execution_count": null,
      "outputs": []
    },
    {
      "cell_type": "code",
      "source": [
        "\n",
        "num1 = int(input(\"enter the number here:-\"))\n",
        "num2 = int(input(\"enter the number here:-\"))\n",
        "num3 = int(input(\"enter the number here:-\"))\n",
        "num4 = int(input(\"enter the number here:-\"))\n",
        "num5 = int(input(\"enter the number here:-\"))\n",
        "s = {num1,num2,num3,num4,num5}\n",
        "print(s)"
      ],
      "metadata": {
        "id": "ln7ixeoEu6Es"
      },
      "execution_count": null,
      "outputs": []
    },
    {
      "cell_type": "code",
      "source": [
        "s = {18,\"18\",18}\n",
        "print(s)"
      ],
      "metadata": {
        "id": "jJoGnjJEu6Gk"
      },
      "execution_count": null,
      "outputs": []
    },
    {
      "cell_type": "code",
      "source": [
        "s = {20,20.0,\"20\"}\n",
        "print(len(s))"
      ],
      "metadata": {
        "id": "GYMrmp2Uu6Jz"
      },
      "execution_count": null,
      "outputs": []
    },
    {
      "cell_type": "code",
      "source": [
        "favlang ={}\n",
        "a = input(\"enter your fav lang here: \")\n",
        "b = input(\"enter your fav lang here: \")\n",
        "c = input(\"enter your fav lang here: \")\n",
        "d = input(\"enter your fav lang here: \")\n",
        "favlang['subham']=a\n",
        "favlang['ram']=b\n",
        "favlang['shaym']=c\n",
        "favlang['mohan']=d\n",
        "print(favlang)"
      ],
      "metadata": {
        "id": "UzsKL5LWu6LY"
      },
      "execution_count": null,
      "outputs": []
    },
    {
      "cell_type": "code",
      "source": [
        "# Chapter: 6 CONDITIONAL & EXPRESSION:- (if & else & elief)\n",
        "\n",
        "\n",
        "a=8\n",
        "if(a<3):\n",
        "    print(\"The value of a is greater than 3\")\n",
        "\n",
        "if(a>13):\n",
        "    print(\"The value of a is greater than 13\")\n",
        "\n",
        "if(a>7):\n",
        "    print(\"The value of a is greater than 7\")\n",
        "\n",
        "if(a>17):\n",
        "    print(\"The value of a is greater than 17\")\n",
        "else:\n",
        "    print(\"The value is not greater than 3 or 7\")\n",
        "\n",
        "print(\"Done\")"
      ],
      "metadata": {
        "id": "tNHtazblu6PA"
      },
      "execution_count": null,
      "outputs": []
    },
    {
      "cell_type": "code",
      "source": [
        "a = int(input(\"enter the number here\"))\n",
        "if(a>=9):\n",
        "  print(\"Greater than\")\n",
        "else:\n",
        "  print('Less than')"
      ],
      "metadata": {
        "id": "Cl19sIE4u6Q2"
      },
      "execution_count": null,
      "outputs": []
    },
    {
      "cell_type": "code",
      "source": [
        "n1 =int(input(\"enter your age here: \"))\n",
        "if n1 >= 18:\n",
        "  print(\"you are eligible\")\n",
        "else:\n",
        "  print(\"you are not eligible\")"
      ],
      "metadata": {
        "id": "lVVs4v5Pu6Uj"
      },
      "execution_count": null,
      "outputs": []
    },
    {
      "cell_type": "code",
      "source": [
        "a =[2,3,4,5,6]\n",
        "print(24 in a)"
      ],
      "metadata": {
        "id": "ha5SKNp0u6Wk"
      },
      "execution_count": null,
      "outputs": []
    },
    {
      "cell_type": "code",
      "source": [
        "a = int(input(\"enter the number here: \"))\n",
        "if(a==7):\n",
        "  print(\"Yes\")\n",
        "elif(a>56):\n",
        "  print(\"no and yes\")\n",
        "else:\n",
        "  print(\"i am optional\")"
      ],
      "metadata": {
        "id": "M85P2CfAu6Z9"
      },
      "execution_count": null,
      "outputs": []
    },
    {
      "cell_type": "code",
      "source": [
        "# Practice Set Of CONDITIONAL & EXPRESSION :-"
      ],
      "metadata": {
        "id": "C495b2dgu6b_"
      },
      "execution_count": null,
      "outputs": []
    },
    {
      "cell_type": "code",
      "source": [
        "num1= int(input(\"enter the number here1 \"))\n",
        "num2= int(input(\"enter the number here2 \"))\n",
        "num3= int(input(\"enter the number here3 \"))\n",
        "num4= int(input(\"enter the number here4 \"))\n",
        "\n",
        "if (num1>num4):\n",
        "  f1 = num1\n",
        "else:\n",
        "  f1 = num4\n",
        "\n",
        "if (num2>num3):\n",
        "  f2 = num2\n",
        "else:\n",
        "  f2 = num3\n",
        "\n",
        "if(f1>f2):\n",
        "  print(str(f1)+\"greater \")\n",
        "else:\n",
        "  print(str(f2)+\"greater \")"
      ],
      "metadata": {
        "id": "tNEkkA7nu6fm"
      },
      "execution_count": null,
      "outputs": []
    },
    {
      "cell_type": "code",
      "source": [
        "sub1 = int(input(\"enter first subject marks: \"))\n",
        "sub2 = int(input(\"enter second subject marks: \"))\n",
        "sub3 = int(input(\"enter third subject marks: \"))\n",
        "if (sub1<33 or sub2<33 or sub3<33):\n",
        "  print(\"you are fail \")\n",
        "\n",
        "if (sub1+sub2+sub3)/3 <40:\n",
        "  print(\"you are fail due to less than 40\")\n",
        "else:\n",
        "  print(\"congratulation you are pass\")\n"
      ],
      "metadata": {
        "id": "rO_EuI1mu6lF"
      },
      "execution_count": null,
      "outputs": []
    },
    {
      "cell_type": "code",
      "source": [
        "text = input(\"enter the text \")\n",
        "if (\"make a lot of money\" in text):\n",
        "  sapm = True\n",
        "elif(\"buy now\" in text):\n",
        "  spam = True\n",
        "elif(\"click this\" in text):\n",
        "  spam = True\n",
        "else:\n",
        "  spam =False\n",
        "if (spam):\n",
        "  print(\"this text is spam \")\n",
        "else:\n",
        "  print(\"this text is not spam \")"
      ],
      "metadata": {
        "id": "nnOpNZZ6ovtn"
      },
      "execution_count": null,
      "outputs": []
    },
    {
      "cell_type": "code",
      "source": [
        "n = input(\"enter the username 10 character here : \")\n",
        "if (len(n)<10):\n",
        "  print(\"character contain under 10 character \")\n",
        "else:\n",
        "  print(\"character out of under 10 \")"
      ],
      "metadata": {
        "id": "yTQGYPnMovoO"
      },
      "execution_count": null,
      "outputs": []
    },
    {
      "cell_type": "code",
      "source": [
        "names = ['harry','shubham','rohit','aditi','shipra']\n",
        "name = input(\"enter the name to check \")\n",
        "\n",
        "if name in names:\n",
        "  print(\"you are present in list \")\n",
        "else:\n",
        "  print(\"you are not present in list \")"
      ],
      "metadata": {
        "id": "WczdaGlxovih"
      },
      "execution_count": null,
      "outputs": []
    },
    {
      "cell_type": "code",
      "source": [
        "marks = int(input(\"Enter the marks here \\n \"))\n",
        "if marks>=90:\n",
        "  grade =\"ex\"\n",
        "elif marks>=80:\n",
        "  grade = \"A\"\n",
        "elif marks>=70:\n",
        "  grade = \"B\"\n",
        "elif marks>=60:\n",
        "  grade = \"C\"\n",
        "elif marks>=50:\n",
        "  grade = \"D\"\n",
        "else:\n",
        "  grade = \"F\"\n",
        "\n",
        "print(\"you are garde is \"+ grade )\n"
      ],
      "metadata": {
        "id": "c_I3_kq8ovYv"
      },
      "execution_count": null,
      "outputs": []
    },
    {
      "cell_type": "code",
      "source": [],
      "metadata": {
        "id": "53qq0510u6q3"
      },
      "execution_count": null,
      "outputs": []
    },
    {
      "cell_type": "code",
      "source": [],
      "metadata": {
        "id": "WSj5zU3tu6s_"
      },
      "execution_count": null,
      "outputs": []
    },
    {
      "cell_type": "code",
      "source": [
        "# Chapter:- 7 LOOPS (for loop & while loop)\n",
        "# WHILE LOOP\n",
        "i = 0\n",
        "while i<10:\n",
        "  print('vicky'+str(i))\n",
        "  i += 1\n",
        "print(\"done\")"
      ],
      "metadata": {
        "id": "Vq9ardWVu7DB"
      },
      "execution_count": null,
      "outputs": []
    },
    {
      "cell_type": "code",
      "source": [
        "i = 1\n",
        "while i<=50:\n",
        "  print(i,end=\" \")\n",
        "  i +=1\n"
      ],
      "metadata": {
        "id": "eH8izlD9u7E_"
      },
      "execution_count": null,
      "outputs": []
    },
    {
      "cell_type": "code",
      "source": [
        "i = 0\n",
        "while i<5:\n",
        "  print(\"welcome to python course\")\n",
        "  i += 1"
      ],
      "metadata": {
        "id": "ijiI1eGbu7Ix"
      },
      "execution_count": null,
      "outputs": []
    },
    {
      "cell_type": "code",
      "source": [
        "fruits = ['banana','mango','graphes','watermelon']\n",
        "i = 0\n",
        "while i<len(fruits):\n",
        "  print(fruits[i])\n",
        "  i += 1"
      ],
      "metadata": {
        "id": "ysW5bMLBu7Lo"
      },
      "execution_count": null,
      "outputs": []
    },
    {
      "cell_type": "code",
      "source": [
        "# FOR LOOP\n",
        "fruits = ['banana','mango','graphes','watermelon']\n",
        "for i in fruits:\n",
        "  print(i)"
      ],
      "metadata": {
        "id": "2rdlUhTpu7TY"
      },
      "execution_count": null,
      "outputs": []
    },
    {
      "cell_type": "code",
      "source": [
        "for i in range(8):\n",
        "  print(i)"
      ],
      "metadata": {
        "id": "9OgYl7Cdu7ZB"
      },
      "execution_count": null,
      "outputs": []
    },
    {
      "cell_type": "code",
      "source": [
        "for i in range(10):\n",
        "  print(i)\n",
        "  if i==5:\n",
        "    break\n",
        "else:\n",
        "  print(\"this is inside of for: \")"
      ],
      "metadata": {
        "id": "WJiL2wA7u7sq"
      },
      "execution_count": null,
      "outputs": []
    },
    {
      "cell_type": "code",
      "source": [
        "for i in range(10):\n",
        "  if i==5:\n",
        "    continue\n",
        "  print(i)"
      ],
      "metadata": {
        "id": "6ccWAg6Bu7vB"
      },
      "execution_count": null,
      "outputs": []
    },
    {
      "cell_type": "code",
      "source": [
        "for i in range(2,50,2):\n",
        "  print(i)"
      ],
      "metadata": {
        "id": "S6of_popuU5f"
      },
      "execution_count": null,
      "outputs": []
    },
    {
      "cell_type": "code",
      "source": [
        "i =4\n",
        "if i>0:\n",
        "  pass\n",
        "while i>6:\n",
        "  pass\n",
        "print(\"harry is good boy\")"
      ],
      "metadata": {
        "id": "81lmy_HquVMp"
      },
      "execution_count": null,
      "outputs": []
    },
    {
      "cell_type": "code",
      "source": [],
      "metadata": {
        "id": "SpavynEDuVYo"
      },
      "execution_count": null,
      "outputs": []
    },
    {
      "cell_type": "code",
      "source": [
        "# Practice Set LOOPS (for loop & while loop):-"
      ],
      "metadata": {
        "id": "o2dkJ-tHuVha"
      },
      "execution_count": null,
      "outputs": []
    },
    {
      "cell_type": "code",
      "source": [
        "num = int(input(\"enter the number here \"))\n",
        "\n",
        "for i in range(1,11):\n",
        "  print(str(num) +\"x\"+ str(i)+\"=\"+str(i*num))\n",
        "  #print(f\"{num}*{i}={num*i}\")\n"
      ],
      "metadata": {
        "id": "TIOCqAgFuVpc"
      },
      "execution_count": null,
      "outputs": []
    },
    {
      "cell_type": "code",
      "source": [
        "l1 = ['harry','sohan','sachin','rahul']\n",
        "for name in l1:\n",
        "  if name.startswith(\"s\"):\n",
        "    print(\"hello \" + name)"
      ],
      "metadata": {
        "id": "FUsytenVuVxV"
      },
      "execution_count": null,
      "outputs": []
    },
    {
      "cell_type": "code",
      "source": [
        "num = int(input(\"enter the number here \"))\n",
        "prime = True\n",
        "for i in range(2,num):\n",
        "  if(num%i == 0):\n",
        "    prime = False\n",
        "    #break\n",
        "if prime:\n",
        "    print(\"this number is prime \")\n",
        "else:\n",
        "  print(\"this number is not prime \")"
      ],
      "metadata": {
        "id": "yIkirM9GuV3e"
      },
      "execution_count": null,
      "outputs": []
    },
    {
      "cell_type": "code",
      "source": [
        "num = int(input(\"enter the number \"))\n",
        "fact =1\n",
        "for i in range(1,num+1):\n",
        "  fact = fact*1\n",
        "print(f\"the factorial of this number is {fact}\")"
      ],
      "metadata": {
        "id": "odi2qF9YuV9s"
      },
      "execution_count": null,
      "outputs": []
    },
    {
      "cell_type": "code",
      "source": [
        "n = 4\n",
        "for i in range(4):\n",
        "  print(\"*\" *(i+1))"
      ],
      "metadata": {
        "id": "xK-05KcxuWDw"
      },
      "execution_count": null,
      "outputs": []
    },
    {
      "cell_type": "code",
      "source": [
        "n=3\n",
        "for i in range(3):\n",
        "  print(\" \" * (n-i-1),end=\"\")\n",
        "  print(\"*\" * (2*i+1),end=\"\")\n",
        "  print(\" \" * (n-i-1))"
      ],
      "metadata": {
        "id": "-nn29gV2uWI4"
      },
      "execution_count": null,
      "outputs": []
    },
    {
      "cell_type": "code",
      "source": [
        "num = int(input(\"enter the number here \"))\n",
        "\n",
        "for i in range(10,0,-1):\n",
        "  print(f\"{num}*{i}={num*i}\")\n"
      ],
      "metadata": {
        "id": "PVj3FJ-5uWOU"
      },
      "execution_count": null,
      "outputs": []
    },
    {
      "cell_type": "code",
      "source": [],
      "metadata": {
        "id": "R8EPoLF0uWTh"
      },
      "execution_count": null,
      "outputs": []
    },
    {
      "cell_type": "code",
      "source": [
        "# Chapter :- 8 FUNCTION AND RECURSION"
      ],
      "metadata": {
        "id": "f9SFY27DuWYw"
      },
      "execution_count": null,
      "outputs": []
    },
    {
      "cell_type": "code",
      "source": [
        "def percent(marks):\n",
        "  p=((marks[0]+marks[1]+marks[2]+marks[3])/400)*100\n",
        "  return p\n"
      ],
      "metadata": {
        "id": "opY3Si65uWbp"
      },
      "execution_count": null,
      "outputs": []
    },
    {
      "cell_type": "code",
      "source": [
        "marks1 = [45,78,86,77]\n",
        "percentage1 =percent(marks1)\n",
        "\n",
        "marks2 = [75,78,88,98]\n",
        "percentage2 = percent(marks2)\n",
        "\n",
        "print(percentage1,percentage2)"
      ],
      "metadata": {
        "id": "qr3QiyznuWf0"
      },
      "execution_count": null,
      "outputs": []
    },
    {
      "cell_type": "code",
      "source": [
        "marks3 = [45,78,86,77]\n",
        "p = percent(marks3)\n",
        "p"
      ],
      "metadata": {
        "id": "klCXD2FRGqbB"
      },
      "execution_count": null,
      "outputs": []
    },
    {
      "cell_type": "code",
      "source": [
        "def greet(name):\n",
        "  gr = (\"HELLO MR\"+name)\n",
        "  return gr\n",
        "\n",
        "def add1 (num1,num2):\n",
        "  sum = num1+num2\n",
        "  return sum\n",
        "\n",
        "a = greet(\"vicky sharma\")\n",
        "add1 = (10,11)\n",
        "print(a)\n",
        "print(add1)"
      ],
      "metadata": {
        "id": "8xD2mYcBHxHM"
      },
      "execution_count": null,
      "outputs": []
    },
    {
      "cell_type": "code",
      "source": [
        "def greet(name=\"stranger\"):\n",
        "  print(\"HELLO MR \" + name)\n",
        "\n",
        "greet(\"vicky\")"
      ],
      "metadata": {
        "id": "oBJ1XxXtuWm5"
      },
      "execution_count": null,
      "outputs": []
    },
    {
      "cell_type": "code",
      "source": [
        "# Recursion:\n",
        "\n",
        "n = 5\n",
        "product = 1\n",
        "for i in range(n):\n",
        "  product = product * (i+1)\n",
        "print(product)"
      ],
      "metadata": {
        "id": "zSgcZFvRXK83"
      },
      "execution_count": null,
      "outputs": []
    },
    {
      "cell_type": "code",
      "source": [
        "def fact_iter(n):\n",
        "  product=1\n",
        "  for i in range(n):\n",
        "    product=product*(i+1)\n",
        "  return product\n",
        "\n",
        "a = fact_iter(5)\n",
        "a"
      ],
      "metadata": {
        "id": "NpZoJXQquWrk"
      },
      "execution_count": null,
      "outputs": []
    },
    {
      "cell_type": "code",
      "source": [
        "\n",
        "def fact_recursive(n):\n",
        "  if n==1 or n==0:\n",
        "    return 1\n",
        "  return n*fact_recursive(n-1)\n",
        "\n",
        "f=fact_recursive(5)\n",
        "print(f)"
      ],
      "metadata": {
        "id": "G4XwtflduWvM"
      },
      "execution_count": null,
      "outputs": []
    },
    {
      "cell_type": "code",
      "source": [],
      "metadata": {
        "id": "yeSZsHmnuWxx"
      },
      "execution_count": null,
      "outputs": []
    },
    {
      "cell_type": "code",
      "source": [
        "# Practice Set (FUNCTION and RECURSION):-"
      ],
      "metadata": {
        "id": "FRVTeawsuWz9"
      },
      "execution_count": null,
      "outputs": []
    },
    {
      "cell_type": "code",
      "source": [
        "def maximum(num1,num2,num3):\n",
        "  if (num1>num2):\n",
        "    print(num1,\"is a greater\")\n",
        "  else:\n",
        "    print(num2,\"is a graeter\")\n",
        "  if (num2>num3):\n",
        "    print(num2,\"is a greater\")\n",
        "  else:\n",
        "    print(num3,\"is a greater\")\n",
        "  return\n",
        "m = maximum(3,5,234)\n",
        "print(\"the value of maximum number is \",str(m))\n",
        "\n"
      ],
      "metadata": {
        "id": "KgVJGhuOuW36"
      },
      "execution_count": null,
      "outputs": []
    },
    {
      "cell_type": "code",
      "source": [
        "maximum(12,23,34)"
      ],
      "metadata": {
        "id": "1EZfMZ5ZE2Us"
      },
      "execution_count": null,
      "outputs": []
    },
    {
      "cell_type": "code",
      "source": [
        "def maximum(num1,num2,num3):\n",
        "  if (num1>num2):\n",
        "    if (num1>num3):\n",
        "      return num1\n",
        "    else:\n",
        "      return num3\n",
        "  else:\n",
        "    if(num2>num3):\n",
        "      return num2\n",
        "    else:\n",
        "      return num3\n",
        "\n",
        "m = maximum(3,5,234)\n",
        "print(\"the value of maximum number is \",str(m))\n"
      ],
      "metadata": {
        "id": "t5BI5btHuW9r"
      },
      "execution_count": null,
      "outputs": []
    },
    {
      "cell_type": "code",
      "source": [],
      "metadata": {
        "id": "gMwej1XBuW_0"
      },
      "execution_count": null,
      "outputs": []
    },
    {
      "cell_type": "code",
      "source": [],
      "metadata": {
        "id": "zJqHAi28uXEA"
      },
      "execution_count": null,
      "outputs": []
    },
    {
      "cell_type": "code",
      "source": [],
      "metadata": {
        "id": "P97A7s9huXGg"
      },
      "execution_count": null,
      "outputs": []
    },
    {
      "cell_type": "code",
      "source": [],
      "metadata": {
        "id": "Z39Arww-uXK3"
      },
      "execution_count": null,
      "outputs": []
    },
    {
      "cell_type": "code",
      "source": [],
      "metadata": {
        "id": "TcM7Q90LuXNN"
      },
      "execution_count": null,
      "outputs": []
    },
    {
      "cell_type": "code",
      "source": [
        "# Chapter:- 9 FILE I/O (File Handling)"
      ],
      "metadata": {
        "id": "IlSwDoRbuXRS"
      },
      "execution_count": null,
      "outputs": []
    },
    {
      "cell_type": "code",
      "source": [
        "df=open('disk.txt','x')\n",
        "df.close()"
      ],
      "metadata": {
        "id": "P_LIshfT2Cl5"
      },
      "execution_count": null,
      "outputs": []
    },
    {
      "cell_type": "code",
      "source": [],
      "metadata": {
        "id": "XjKw24QwzTLs"
      },
      "execution_count": null,
      "outputs": []
    },
    {
      "cell_type": "code",
      "source": [
        "f=open('disk.txt','w')\n",
        "f.write('vicky sharma python student in ducat \\n')\n",
        "f.close()"
      ],
      "metadata": {
        "id": "VjoPpowd2h-_"
      },
      "execution_count": null,
      "outputs": []
    },
    {
      "cell_type": "code",
      "source": [
        "# How to read file in two\n",
        "\n",
        "f = open('disk.txt')\n",
        "data = f.read(5)\n",
        "print(data)\n",
        "f.close()"
      ],
      "metadata": {
        "id": "qlXLwPVzEUU0"
      },
      "execution_count": null,
      "outputs": []
    },
    {
      "cell_type": "code",
      "source": [
        "f= open('disk.txt')\n",
        "data = f.read() # use readline to read only one line\n",
        "print(data)\n",
        "f.close()"
      ],
      "metadata": {
        "id": "gOLZzvZKznv0"
      },
      "execution_count": null,
      "outputs": []
    },
    {
      "cell_type": "code",
      "source": [
        "f=open('disk.txt','a')\n",
        "f.write('Iam writing paragraph')\n",
        "f.close()"
      ],
      "metadata": {
        "id": "_kAw5d_5uXUg"
      },
      "execution_count": null,
      "outputs": []
    },
    {
      "cell_type": "code",
      "source": [
        "df = open('disk.txt')\n",
        "dt = df.readline()\n",
        "print(dt)\n",
        "df.close()"
      ],
      "metadata": {
        "id": "VyO6rG0qc-b3"
      },
      "execution_count": null,
      "outputs": []
    },
    {
      "cell_type": "code",
      "source": [
        "f=open('disk.txt','a')\n",
        "f.write('in gurgoan')\n",
        "f.close()"
      ],
      "metadata": {
        "id": "mZR4UmvIc-7S"
      },
      "execution_count": null,
      "outputs": []
    },
    {
      "cell_type": "code",
      "source": [
        "df = open('disk.txt','r')\n",
        "dt = df.read()\n",
        "print(dt)\n",
        "df.close()"
      ],
      "metadata": {
        "id": "ybnItDGDc_CK"
      },
      "execution_count": null,
      "outputs": []
    },
    {
      "cell_type": "code",
      "source": [
        "f = open('this.txt','w')\n",
        "f.write(\"please write to this to file\")\n",
        "f.close()"
      ],
      "metadata": {
        "id": "W2J36OiE5D25"
      },
      "execution_count": null,
      "outputs": []
    },
    {
      "cell_type": "code",
      "source": [
        "b = open('this.txt','r')\n",
        "cv = b.read()\n",
        "print(cv)\n",
        "b.close()"
      ],
      "metadata": {
        "id": "pH3d61n95DpG"
      },
      "execution_count": null,
      "outputs": []
    },
    {
      "cell_type": "code",
      "source": [],
      "metadata": {
        "id": "u_wliQ0_c_Gh"
      },
      "execution_count": null,
      "outputs": []
    },
    {
      "cell_type": "code",
      "source": [],
      "metadata": {
        "id": "5qs-TU1Z6gMI"
      },
      "execution_count": null,
      "outputs": []
    },
    {
      "cell_type": "code",
      "source": [],
      "metadata": {
        "id": "h-Yc78uJ6gmC"
      },
      "execution_count": null,
      "outputs": []
    },
    {
      "cell_type": "code",
      "source": [],
      "metadata": {
        "id": "Qnl794g76g5u"
      },
      "execution_count": null,
      "outputs": []
    },
    {
      "cell_type": "code",
      "source": [],
      "metadata": {
        "id": "vOpK5TAx6h1a"
      },
      "execution_count": null,
      "outputs": []
    },
    {
      "cell_type": "code",
      "source": [
        "# Chapter:-10 Oops"
      ],
      "metadata": {
        "id": "y_SXJvZGc_LK"
      },
      "execution_count": null,
      "outputs": []
    },
    {
      "cell_type": "code",
      "source": [
        "class Employee:\n",
        "  company = 'Google'\n",
        "  def getsalary(self,signature):\n",
        "    print(f\"salary for this working employeee is {self.company} is  {self.salary} {signature}\")\n",
        "\n",
        "  @staticmethod\n",
        "  def greet():\n",
        "    print(\"good morning, sir \")\n",
        "harry= Employee()\n",
        "harry.salary = 1000 # Employee.getsalary(harry)\n",
        "harry.getsalary(\"Thanks!\")\n",
        "harry.greet()\n"
      ],
      "metadata": {
        "id": "tyl83Fdsc_Vo"
      },
      "execution_count": null,
      "outputs": []
    },
    {
      "cell_type": "code",
      "source": [
        "class employee:\n",
        "  company = 'VS Code'\n",
        "\n",
        "h = employee()\n",
        "h.company\n",
        "h.name = 'harry'\n",
        "h.salary = '30k'\n",
        "employee.company = 'google'"
      ],
      "metadata": {
        "id": "LJV92dTDAmiJ"
      },
      "execution_count": null,
      "outputs": []
    },
    {
      "cell_type": "code",
      "source": [
        "h.name"
      ],
      "metadata": {
        "id": "0VsbMAyXB2Hg"
      },
      "execution_count": null,
      "outputs": []
    },
    {
      "cell_type": "code",
      "source": [
        "# Constructor\n",
        "\n",
        "\n",
        "class Employee:\n",
        "  company = 'Google'\n",
        "\n",
        "  def __init__(self,name,salary,subunit):\n",
        "    self.name = name\n",
        "    self.salary = salary\n",
        "    self.subunit = subunit\n",
        "    print(\"Empolyee is created \")\n",
        "\n",
        "  def getDetails(self):\n",
        "    print(f\"the name of employee is {self.name}\")\n",
        "    print(f\"the salary of employee is {self.salary}\")\n",
        "    print(f\"the subunit of employee is {self.subunit}\")\n",
        "\n",
        "\n",
        "  def getsalary(self,signature):\n",
        "    print(f\"salary for this working employeee is {self.company} is {self.salary}\\n {signature}\")\n",
        "\n",
        "  @staticmethod\n",
        "  def greet():\n",
        "    print(\"good morning, sir \")\n",
        "\n",
        "harry= Employee(\"harry\",100,\"youtube\")\n",
        "harry.getDetails()\n"
      ],
      "metadata": {
        "id": "jWmB2Jywc_Yy"
      },
      "execution_count": null,
      "outputs": []
    },
    {
      "cell_type": "code",
      "source": [
        "harry.greet()\n",
        "harry= Employee(\"harry\",20000,\"youtube\")\n",
        "harry.getDetails()\n",
        "harry.getsalary(\"Thanks\")"
      ],
      "metadata": {
        "id": "5tF-UpP9Gdo9"
      },
      "execution_count": null,
      "outputs": []
    },
    {
      "cell_type": "code",
      "source": [
        "# practice pf oops"
      ],
      "metadata": {
        "id": "iihCt9jLc_bI"
      },
      "execution_count": null,
      "outputs": []
    },
    {
      "cell_type": "code",
      "source": [
        "class calculator():\n",
        "  def __init__(self,num):\n",
        "    self.number = num\n",
        "\n",
        "  def square(self):\n",
        "    print(f\"the value of {self.number} square is {self.number**2}\")\n",
        "\n",
        "  def squareroot(self):\n",
        "    print(f\"the value of {self.number} squareroot is {self.number**0.5}\")\n",
        "\n",
        "  def cube(self):\n",
        "    print(f\"the value of {self.number} cube is {self.number**3}\")\n",
        "\n",
        "\n",
        "a = calculator(2)\n",
        "a.square()\n",
        "a.cube()\n",
        "a.squareroot()"
      ],
      "metadata": {
        "id": "FVSRF8o7c_hg"
      },
      "execution_count": null,
      "outputs": []
    },
    {
      "cell_type": "code",
      "source": [
        "class Sample:\n",
        "  a = \"vicky\"\n",
        "\n",
        "obj = Sample()\n",
        "obj.a = 'harry'\n",
        "\n",
        "print(Sample.a)\n",
        "print(obj.a)"
      ],
      "metadata": {
        "id": "u31szWkec_lr"
      },
      "execution_count": null,
      "outputs": []
    },
    {
      "cell_type": "code",
      "source": [
        "class calculator():\n",
        "  def __init__(self,num):\n",
        "    self.number = num\n",
        "\n",
        "  def square(self):\n",
        "    print(f\"the value of {self.number} square is {self.number**2}\")\n",
        "\n",
        "  def squareroot(self):\n",
        "    print(f\"the value of {self.number} squareroot is {self.number**0.5}\")\n",
        "\n",
        "  def cube(self):\n",
        "    print(f\"the value of {self.number} cube is {self.number**3}\")\n",
        "\n",
        "  @staticmethod\n",
        "  def greet():\n",
        "    print(f\"****** Hello there welcome to the best calculator of world ********\")\n",
        "\n",
        "a = calculator(2)\n",
        "a.greet()\n",
        "a.square()\n",
        "a.cube()\n",
        "a.squareroot()"
      ],
      "metadata": {
        "id": "OlTSKcAvpgcK"
      },
      "execution_count": null,
      "outputs": []
    },
    {
      "cell_type": "code",
      "source": [
        "\n",
        "class Train:\n",
        "    def __init__(self, name, fare, seats):\n",
        "        self.name = name\n",
        "        self.fare = fare\n",
        "        self.seats = seats\n",
        "\n",
        "    def getStatus(self):\n",
        "        print(\"************\")\n",
        "        print(f\"The name of the train is {self.name}\")\n",
        "        print(f\"The seats available in the train are {self.seats}\")\n",
        "        print(\"************\")\n",
        "\n",
        "    def fareInfo(self):\n",
        "        print(f\"The price of the ticket is: Rs {self.fare}\")\n",
        "\n",
        "    def bookTicket(self):\n",
        "        if(self.seats>0):\n",
        "            print(f\"Your ticket has been booked! Your seat number is {self.seats}\")\n",
        "            self.seats = self.seats - 1\n",
        "        else:\n",
        "            print(\"Sorry this train is full! Kindly try in tatkal\")\n",
        "\n",
        "    def cancelTicket(self, seatNo,Refund):\n",
        "        pass\n",
        "        '''\n",
        "        print(f\"your ticket has been cancel and your SeatNo is: {self.seatNo}\")\n",
        "        print(f\"your ticket has been cancel Refund amount transfer your registerd bank account: {self.Refund}\")\n",
        "        '''\n",
        "\n",
        "intercity = Train(\"Intercity Express: 14015\", 90,0)\n",
        "intercity.getStatus()\n",
        "intercity.bookTicket()\n",
        "intercity.bookTicket()\n",
        "intercity.bookTicket()\n",
        "intercity.getStatus()\n"
      ],
      "metadata": {
        "id": "HC5Lj2RMc_02"
      },
      "execution_count": null,
      "outputs": []
    },
    {
      "cell_type": "code",
      "source": [
        "class Sample:\n",
        "\n",
        "  def  __init__(harry,name):\n",
        "    harry.name = name\n",
        "\n",
        "\n",
        "obj = Sample(\"vicky sharma\")\n",
        "print(obj.name)"
      ],
      "metadata": {
        "id": "EwHHagI_dAFH"
      },
      "execution_count": null,
      "outputs": []
    },
    {
      "cell_type": "code",
      "source": [],
      "metadata": {
        "id": "dAADksWydAmG"
      },
      "execution_count": null,
      "outputs": []
    },
    {
      "cell_type": "code",
      "source": [],
      "metadata": {
        "id": "MT6k55O5u4di"
      },
      "execution_count": null,
      "outputs": []
    },
    {
      "cell_type": "code",
      "source": [
        "# Chapter:- 11 Inheritance in OOPs"
      ],
      "metadata": {
        "id": "Ws3A-2LldAoi"
      },
      "execution_count": null,
      "outputs": []
    },
    {
      "cell_type": "markdown",
      "source": [
        "#single inheritance\n",
        "#multilevel inheritance\n",
        "#multiple inheritance"
      ],
      "metadata": {
        "id": "PpI1hfOPADiU"
      }
    },
    {
      "cell_type": "code",
      "source": [
        "# Single Inheritance\n",
        "\n",
        "class Employee:\n",
        "    company = \"Google\"\n",
        "    language = \"Python\"\n",
        "\n",
        "    def getLanguage(self):\n",
        "        print(f\"The language is {self.language}\")\n",
        "\n",
        "    def showDetails(self):\n",
        "        print(\"This is an employee\")\n",
        "\n",
        "class Programmer(Employee):\n",
        "    company = \"Youtube\"\n",
        "\n",
        "    def showDetails(self):\n",
        "        print(\"This is an programmer\")\n",
        "\n",
        "\n",
        "e = Employee()\n",
        "e.showDetails()\n",
        "p = Programmer()\n",
        "p.showDetails()\n",
        "print(p.company)"
      ],
      "metadata": {
        "id": "hvZVoFhdCuZ9"
      },
      "execution_count": null,
      "outputs": []
    },
    {
      "cell_type": "code",
      "source": [
        "p = Programmer()\n",
        "p.showDetails()\n",
        "e = Employee()\n",
        "e.showDetails()\n",
        "print(e.company)\n",
        "p.getLanguage()"
      ],
      "metadata": {
        "id": "rf-ab6fHbJ3q"
      },
      "execution_count": null,
      "outputs": []
    },
    {
      "cell_type": "code",
      "source": [
        "# multiple inheritance\n",
        "\n",
        "class Employee:\n",
        "  company = \"visa\"\n",
        "  eCode = 120\n",
        "\n",
        "class Freelancer:\n",
        "  company = \"Fiverr\"\n",
        "  level = 0\n",
        "\n",
        "  def upgradeLevel(self):\n",
        "    self.level = self.level + 1\n",
        "\n",
        "class Programmer(Freelancer,Employee):\n",
        "  name = \"shyam\"\n",
        "\n",
        "\n",
        "p = Programmer()\n",
        "p.upgradeLevel()\n",
        "print(p.level)\n",
        "print(p.company)\n",
        "print(p.eCode)"
      ],
      "metadata": {
        "id": "sw9v4ruRAxUX"
      },
      "execution_count": null,
      "outputs": []
    },
    {
      "cell_type": "code",
      "source": [
        "p = Programmer()\n",
        "print(p.company)"
      ],
      "metadata": {
        "id": "6XoB0ZFHUmxz"
      },
      "execution_count": null,
      "outputs": []
    },
    {
      "cell_type": "code",
      "source": [
        "# multilevel inheritance\n",
        "\n",
        "class Person:\n",
        "    country = \"India\"\n",
        "    def takeBreath(self):\n",
        "        print(\"I am breathing...\")\n",
        "\n",
        "class Employee(Person):\n",
        "    company = \"Honda\"\n",
        "\n",
        "    def getSalary(self):\n",
        "        print(f\"Salary is {self.salary}\")\n",
        "\n",
        "    def takeBreath(self):\n",
        "        print(\"I am an Employee so I am luckily breathing..\")\n",
        "\n",
        "class Programmer(Employee):\n",
        "    company = \"Fiverr\"\n",
        "\n",
        "    def getSalary(self):\n",
        "        print(f\"No salary to programmers\")\n",
        "\n",
        "    def takeBreath(self):\n",
        "        print(\"I am a Progarmmer so I am breathing++..\")\n",
        "\n",
        "p = Person()\n",
        "p.takeBreath()\n",
        "# print(p.company) # throws an error\n",
        "\n",
        "e = Employee()\n",
        "\n",
        "e.takeBreath()\n",
        "print(e.company)\n",
        "\n",
        "pr = Programmer()\n",
        "pr.takeBreath()\n",
        "print(pr.company)\n",
        "print(pr.country)\n"
      ],
      "metadata": {
        "id": "4C6zhGqQAxWq"
      },
      "execution_count": null,
      "outputs": []
    },
    {
      "cell_type": "code",
      "source": [
        "# super method\n",
        "\n",
        "class Person:\n",
        "    country = \"India\"\n",
        "\n",
        "    def __init__(self):\n",
        "        print(\"Initializing Person...\\n\")\n",
        "\n",
        "    def takeBreath(self):\n",
        "        print(\"I am breathing...\")\n",
        "\n",
        "class Employee(Person):\n",
        "    company = \"Honda\"\n",
        "\n",
        "    def __init__(self):\n",
        "        super().__init__()\n",
        "        print(\"Initializing Employee...\\n\")\n",
        "\n",
        "    def getSalary(self):\n",
        "        print(f\"Salary is {self.salary}\")\n",
        "\n",
        "    def takeBreath(self):\n",
        "        super().takeBreath()\n",
        "        print(\"I am an Employee so I am luckily breathing..\")\n",
        "\n",
        "class Programmer(Employee):\n",
        "    company = \"Fiverr\"\n",
        "\n",
        "    def __init__(self):\n",
        "\n",
        "        super().__init__()\n",
        "        print(\"Initializing Programmer...\\n\")\n",
        "\n",
        "    def getSalary(self):\n",
        "        print(f\"No salary to programmers\")\n",
        "\n",
        "    def takeBreath(self):\n",
        "        super().takeBreath()\n",
        "        print(\"I am a Progarmmer so I am breathing++..\")\n",
        "\n",
        "p = Person()\n",
        "p.takeBreath()\n",
        "\n",
        "e = Employee()\n",
        "e.takeBreath()\n",
        "\n",
        "pr = Programmer()\n",
        "pr.takeBreath()\n",
        "\n"
      ],
      "metadata": {
        "id": "gh6e1hZAAxa0"
      },
      "execution_count": null,
      "outputs": []
    },
    {
      "cell_type": "code",
      "source": [
        "class Employee:\n",
        "    company = \"Camel\"\n",
        "    salary = 100\n",
        "    location = \"Delhi\"\n",
        "\n",
        "\n",
        "    @classmethod\n",
        "    def changeSalary(cls, sal):\n",
        "        cls.salary = sal\n",
        "\n",
        "e = Employee()\n",
        "print(e.salary)\n",
        "e.changeSalary(45)\n",
        "print(e.salary)\n",
        "#print(Employee.salary)\n"
      ],
      "metadata": {
        "id": "8fWL1qqlAxdg"
      },
      "execution_count": null,
      "outputs": []
    },
    {
      "cell_type": "code",
      "source": [
        "# property method\n",
        "class Employee:\n",
        "    company = \"Bharat Gas\"\n",
        "    salary = 5600\n",
        "    salarybonus = 400\n",
        "    # totalSalary = 6100\n",
        "\n",
        "    @property\n",
        "    def totalSalary(self):\n",
        "        return self.salary + self.salarybonus\n",
        "\n",
        "    @totalSalary.setter\n",
        "    def totalSalary(self, val):\n",
        "        self.salarybonus = val - self.salary\n",
        "\n",
        "e = Employee()\n",
        "print(e.totalSalary)\n",
        "e.totalSalary = 5800\n",
        "print(e.salary)\n",
        "print(e.salarybonus)"
      ],
      "metadata": {
        "id": "8mmoEeIENa4P"
      },
      "execution_count": null,
      "outputs": []
    },
    {
      "cell_type": "code",
      "source": [],
      "metadata": {
        "id": "CgcZyBpgvndo"
      },
      "execution_count": null,
      "outputs": []
    },
    {
      "cell_type": "code",
      "source": [
        "# practice set of chapter 11 inheritance"
      ],
      "metadata": {
        "id": "pobMQrB7zv7b"
      },
      "execution_count": null,
      "outputs": []
    },
    {
      "cell_type": "code",
      "source": [
        "class C2dVec:\n",
        "   def __init__(self,i,j):\n",
        "     self.icap = i\n",
        "     self.jcap = j\n",
        "\n",
        "   def __str__(self):\n",
        "     return f\"{self.icap}i + {self.jcap}j\"\n",
        "\n",
        "\n",
        "class C3dVec(C2dVec):\n",
        "   def __init__(self, i, j, k):\n",
        "     super(). __init__(i,j)\n",
        "     self.kcap = k\n",
        "\n",
        "   def __str__(self):\n",
        "     return f\"{self.icap}i + {self.jcap}j + {self.kcap}k\"\n",
        "\n",
        "\n",
        "v2d = C2dVec(1,3)\n",
        "v3d = C3dVec(1,9,7)\n",
        "print(v2d)\n",
        "print(v3d)"
      ],
      "metadata": {
        "id": "NrtrXKNzz4Qe"
      },
      "execution_count": null,
      "outputs": []
    },
    {
      "cell_type": "code",
      "source": [
        "class Animals:\n",
        "  animalType = 'Mammal'\n",
        "\n",
        "class pets:\n",
        "  color = 'White'\n",
        "\n",
        "class Dog:\n",
        "  @staticmethod\n",
        "  def bark():\n",
        "    print(\"bow bow!\")\n",
        "\n",
        "d = Dog()\n",
        "d.bark()\n",
        "c =pets()\n",
        "print(c.color)"
      ],
      "metadata": {
        "id": "iRc7F0QM4Be3"
      },
      "execution_count": null,
      "outputs": []
    },
    {
      "cell_type": "code",
      "source": [
        "\n",
        "class Employee:\n",
        "  salary = 1000\n",
        "  increment = 1.5\n",
        "\n",
        "  @property\n",
        "  def salaryAfterIncrement(self):\n",
        "    return self.salary*self.increment\n",
        "\n",
        "\n",
        "  @salaryAfterIncrement.setter\n",
        "  def salaryAfterIncrement(self,sai):\n",
        "     self.increment= sai/self.salary\n",
        "\n",
        "e = Employee()\n",
        "print(e.salaryAfterIncrement)\n",
        "print(e.increment)\n",
        "e.salaryAfterIncrement = 2000\n",
        "print(e.increment)\n"
      ],
      "metadata": {
        "id": "9URA8omw0pzk"
      },
      "execution_count": null,
      "outputs": []
    },
    {
      "cell_type": "code",
      "source": [
        "# (a+bi)(c+di) = (ac−bd) + (ad+bc)i\n",
        "class Complex:\n",
        "  def __init__(self,r,i):\n",
        "    self.real = r\n",
        "    self.imag = i\n",
        "\n",
        "  def __add__(self,c):\n",
        "    return Complex(self.real + c.real, self.imag + c.imag)\n",
        "\n",
        "\n",
        "  def __mul__(self,c):\n",
        "    mulreal = self.real*c.real - self.imag*c.imag\n",
        "    mulimag = self.real*c.imag + self.imag*c.real\n",
        "    return Complex(mulreal,mulimag)\n",
        "\n",
        "  def __str__(self):\n",
        "    if self.imag < 0:\n",
        "      return f\"{self.real} - {self.imag}i\"\n",
        "    else:\n",
        "      return f\"{self.real} + {self.imag}i\"\n",
        "\n",
        "c1 = Complex(1, -4)\n",
        "c2 = Complex(331, -37)\n",
        "print(c1 + c2)\n",
        "print(c1 * c2)\n"
      ],
      "metadata": {
        "id": "M5aJPplb8lAU"
      },
      "execution_count": null,
      "outputs": []
    },
    {
      "cell_type": "code",
      "source": [
        "class Vector:\n",
        "    def __init__(self, vec):\n",
        "       self.vec = vec\n",
        "\n",
        "    def __str__(self):\n",
        "        str1 = \"\"\n",
        "        index = 0\n",
        "        for i in self.vec:\n",
        "            str1 += f\" {i}a{index} +\"\n",
        "            index +=1\n",
        "        return str1[:-1]\n",
        "\n",
        "    def __add__(self, vec2):\n",
        "        newList = []\n",
        "        for i in range(len(self.vec)):\n",
        "            newList.append(self.vec[i] + vec2.vec[i])\n",
        "        return Vector(newList)\n",
        "\n",
        "    def __mul__(self, vec2):\n",
        "        sum = 0\n",
        "        for i in range(len(self.vec)):\n",
        "            sum += self.vec[i] * vec2.vec[i]\n",
        "        return sum\n",
        "\n",
        "v1 = Vector([1, 4, 6])\n",
        "v2 = Vector([1, 6, 9])\n",
        "print(v1+v2)\n",
        "print(v1*v2)"
      ],
      "metadata": {
        "id": "aidKAQ4qBkiT"
      },
      "execution_count": null,
      "outputs": []
    },
    {
      "cell_type": "code",
      "source": [
        "# Exception handling in python"
      ],
      "metadata": {
        "id": "FTGuImyBIT0h"
      },
      "execution_count": null,
      "outputs": []
    },
    {
      "cell_type": "code",
      "source": [
        "try:\n",
        "  n = int(input(\"enter the number here: \"))\n",
        "  if n%2 == 1:\n",
        "    print(\"it is even number: \")\n",
        "  else:\n",
        "    print(\"it is odd number:\")\n",
        "except ZeroDivisionError:\n",
        "  print('not possible')\n",
        "finally:\n",
        "  print('succes fully execute')\n"
      ],
      "metadata": {
        "id": "XTCXOzPqIVPu"
      },
      "execution_count": null,
      "outputs": []
    },
    {
      "cell_type": "code",
      "source": [],
      "metadata": {
        "id": "Udxx9CBe_Bjx"
      },
      "execution_count": null,
      "outputs": []
    },
    {
      "cell_type": "code",
      "source": [
        "# overloading in polymorphism\n",
        "\n",
        "class ws:\n",
        "  def displayinfo(self,name=\"\"):  # overloading using different parameter\n",
        "    print(\"welcome to wscubetech\"+name) # overloading\n",
        "\n",
        "obj = ws()\n",
        "obj.displayinfo()\n",
        "\n",
        "obj.displayinfo(\"python\")"
      ],
      "metadata": {
        "id": "_V_HzZ7bIVgK"
      },
      "execution_count": null,
      "outputs": []
    },
    {
      "cell_type": "code",
      "source": [
        "#  overriding in polymorphism\n",
        "\n",
        "class ws:\n",
        "  def displayinfo(self):\n",
        "    print(\"welcome to wscubetech\")\n",
        "\n",
        "class IIP(ws):\n",
        "  def displayinfo(self):\n",
        "    #super().displayinfo()\n",
        "    print(\"welcome to IIP\")\n",
        "\n",
        "obj = IIP()\n",
        "obj.displayinfo()"
      ],
      "metadata": {
        "id": "LV80M6QY_oV3"
      },
      "execution_count": null,
      "outputs": []
    },
    {
      "cell_type": "code",
      "source": [],
      "metadata": {
        "id": "-xCCD1Q8_bMl"
      },
      "execution_count": null,
      "outputs": []
    }
  ]
}